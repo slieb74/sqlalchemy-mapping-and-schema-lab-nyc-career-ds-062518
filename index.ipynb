{
 "cells": [
  {
   "cell_type": "markdown",
   "metadata": {},
   "source": [
    "# SQLAlchemy Mapping and Table Creation Lab"
   ]
  },
  {
   "cell_type": "markdown",
   "metadata": {},
   "source": [
    "SQLAlchemy is a powerful Object Relational Mapper that lets us \"map\" our Python objects to SQL database tables.  Generally, each of our Python classes will have its own table in our database and each new instance of a class gets \"mapped\" to a row on one of these tables.  As we are probably well aware by now, writing SQL inserts, updates, and queries can be a repetitive and tedious process.  SQLAlchemy has a library of built-in methods that handle these tasks in a simple and easy manner.  In this lab, we will use SQLAlchemy to create a new database and create a table."
   ]
  },
  {
   "cell_type": "markdown",
   "metadata": {},
   "source": [
    "## Objectives\n",
    "\n",
    "1.  Understand that we can map Python classes to a SQL database\n",
    "2.  Create and connect to a SQLite database using SQLAlchemy\n",
    "3.  Create a table with several columns and datatypes using SQLAlchemy"
   ]
  },
  {
   "cell_type": "markdown",
   "metadata": {},
   "source": [
    "### Part 1: Setup\n",
    "\n",
    "#### Create and connect to our database\n",
    "\n",
    "We can create and establish a connection to our new database with sqlalchemy's `create_engine` function.  The first step is to import this function from the `sqlalchemy` library at the top of our `schema.py` file.  Then, we will use this function to create a database, in this case `musicians.db`, with the following line of code:"
   ]
  },
  {
   "cell_type": "markdown",
   "metadata": {},
   "source": [
    "> ```engine = create_engine('sqlite:///musicians.db', echo=True)```\n",
    "\n",
    "Technically, the database does not exist yet.  We will not create the musicians database until later on when we call the `engine` variable.  For now, let this line of code linger at the bottom of the `schema.py` file until we are ready to use it."
   ]
  },
  {
   "cell_type": "markdown",
   "metadata": {},
   "source": [
    "#### Declare a mapping"
   ]
  },
  {
   "cell_type": "markdown",
   "metadata": {},
   "source": [
    "Next, we need our Python classes to have the functionality of the *declarative base class*.  The declarative base is responsible for cataloging our classes and tables.  We import the `declarative_base` from the SQLAlchemy library at the top of our Python script with the other dependencies as so:"
   ]
  },
  {
   "cell_type": "markdown",
   "metadata": {},
   "source": [
    "> ```from sqlalchemy.ext.declarative import declarative_base```\n",
    "\n",
    "> ```Base = declarative_base()```"
   ]
  },
  {
   "cell_type": "markdown",
   "metadata": {},
   "source": [
    "We will need to import `Column`, `Integer`, `String`, `DateTime`, and `Boolean` from the SQLAlchemy library at the top of the `schema.py` file.  By now, we are importing so much of the SQLAlchemy library that it probably makes sense to simply import all using the universal, `*`.\n",
    "\n",
    "> ```from sqlalchemy import *```"
   ]
  },
  {
   "cell_type": "markdown",
   "metadata": {},
   "source": [
    "#### Execute the table creation\n",
    "\n",
    "Remember that engine variable from the very beginning that we left at the bottom of the file?  Time to put it to use!  We will execute the creation of our database and the musicians table with the code below.  The declarative base's `metadata.create_all()` issues the SQL commands so that our database and table are up and running.\n",
    "\n",
    "> ```Base.metadata.create_all(engine)```"
   ]
  },
  {
   "cell_type": "markdown",
   "metadata": {},
   "source": [
    "## A Note on the Tests"
   ]
  },
  {
   "cell_type": "markdown",
   "metadata": {},
   "source": [
    "Prior to running the tests, run the `python schema.py` in your terminal after you have finished writing all the code in the `schema.py` file.  Python will read and execute your code and create the `musicians.db` file.  The tests check this file's output.\n",
    "\n",
    "If the tests don't pass, for now simply delete the `musicians.db` file then try again!"
   ]
  },
  {
   "cell_type": "markdown",
   "metadata": {},
   "source": [
    "## Summary"
   ]
  },
  {
   "cell_type": "markdown",
   "metadata": {},
   "source": [
    "In this lab we learned that declaring a mapping means creating a SQLAlchemy object that takes our python class objects and maps them to our SQL tables and saves them in our database. We also learned the basic setup for importing SQLAlchemy, creating a connection to our database, creating a mapping with a SQL table, and finally how to execute creating the database."
   ]
  }
 ],
 "metadata": {
  "kernelspec": {
   "display_name": "Python 3",
   "language": "python",
   "name": "python3"
  },
  "language_info": {
   "codemirror_mode": {
    "name": "ipython",
    "version": 3
   },
   "file_extension": ".py",
   "mimetype": "text/x-python",
   "name": "python",
   "nbconvert_exporter": "python",
   "pygments_lexer": "ipython3",
   "version": "3.6.6"
  }
 },
 "nbformat": 4,
 "nbformat_minor": 2
}
